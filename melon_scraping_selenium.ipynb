{
 "cells": [
  {
   "cell_type": "code",
   "execution_count": 1,
   "id": "ab9cc655",
   "metadata": {},
   "outputs": [],
   "source": [
    "from selenium import webdriver"
   ]
  },
  {
   "cell_type": "code",
   "execution_count": 2,
   "id": "f65a696f",
   "metadata": {},
   "outputs": [
    {
     "name": "stdout",
     "output_type": "stream",
     "text": [
      " C 드라이브의 볼륨에는 이름이 없습니다.\n",
      " 볼륨 일련 번호: D09D-FE52\n",
      "\n",
      " C:\\Develops\\test_webscraping 디렉터리\n",
      "\n",
      "2021-06-08  오후 08:07        11,107,328 chromedriver.exe\n",
      "               1개 파일          11,107,328 바이트\n",
      "               0개 디렉터리  56,977,317,888 바이트 남음\n"
     ]
    }
   ],
   "source": [
    "!dir .\\chromedriver.exe"
   ]
  },
  {
   "cell_type": "code",
   "execution_count": 3,
   "id": "8fb19bb7",
   "metadata": {},
   "outputs": [],
   "source": [
    "browser=webdriver.Chrome('./chromedriver.exe')"
   ]
  },
  {
   "cell_type": "code",
   "execution_count": 4,
   "id": "0812f0e3",
   "metadata": {},
   "outputs": [],
   "source": [
    "browser.get('http://www.melon.com/chart/index.htm')"
   ]
  },
  {
   "cell_type": "code",
   "execution_count": 5,
   "id": "c86e71a3",
   "metadata": {},
   "outputs": [],
   "source": [
    "html=browser.page_source"
   ]
  },
  {
   "cell_type": "code",
   "execution_count": 6,
   "id": "3ef2769a",
   "metadata": {},
   "outputs": [],
   "source": [
    "from bs4 import BeautifulSoup as bs"
   ]
  },
  {
   "cell_type": "code",
   "execution_count": 7,
   "id": "66dd85a8",
   "metadata": {},
   "outputs": [],
   "source": [
    "melon=bs(html, 'html.parser')"
   ]
  },
  {
   "cell_type": "code",
   "execution_count": 8,
   "id": "39be46f6",
   "metadata": {},
   "outputs": [
    {
     "data": {
      "text/plain": [
       "[<a href=\"javascript:melon.play.playSong('19030101',33487342);\" title=\"Next Level 재생\">Next Level</a>,\n",
       " <a href=\"javascript:melon.play.playSong('19030101',33507137);\" title=\"Butter 재생\">Butter</a>,\n",
       " <a href=\"javascript:melon.play.playSong('19030101',33503722);\" title=\"헤픈 우연 재생\">헤픈 우연</a>,\n",
       " <a href=\"javascript:melon.play.playSong('19030101',33589260);\" title=\"치맛바람 (Chi Mat Ba Ram) 재생\">치맛바람 (Chi Mat Ba Ram)</a>,\n",
       " <a href=\"javascript:melon.play.playSong('19030101',33464805);\" title=\"Dun Dun Dance 재생\">Dun Dun Dance</a>,\n",
       " <a href=\"javascript:melon.play.playSong('19030101',33359317);\" title=\"Peaches (Feat. Daniel Caesar &amp; Giveon) 재생\">Peaches (Feat. Daniel Caesar &amp; Giveon)</a>,\n",
       " <a href=\"javascript:melon.play.playSong('19030101',30287019);\" title=\"롤린 (Rollin') 재생\">롤린 (Rollin')</a>,\n",
       " <a href=\"javascript:melon.play.playSong('19030101',33559180);\" title=\"Alcohol-Free 재생\">Alcohol-Free</a>,\n",
       " <a href=\"javascript:melon.play.playSong('19030101',33372781);\" title=\"라일락 재생\">라일락</a>,\n",
       " <a href=\"javascript:melon.play.playSong('19030101',33397561);\" title=\"ASAP 재생\">ASAP</a>,\n",
       " <a href=\"javascript:melon.play.playSong('19030101',32860397);\" title=\"운전만해 (We Ride) 재생\">운전만해 (We Ride)</a>,\n",
       " <a href=\"javascript:melon.play.playSong('19030101',32872978);\" title=\"Dynamite 재생\">Dynamite</a>,\n",
       " <a href=\"javascript:melon.play.playSong('19030101',33239419);\" title=\"Celebrity 재생\">Celebrity</a>,\n",
       " <a href=\"javascript:melon.play.playSong('19030101',33589488);\" title=\"비와 당신 재생\">비와 당신</a>,\n",
       " <a href=\"javascript:melon.play.playSong('19030101',33527705);\" title=\"안녕 (Hello) 재생\">안녕 (Hello)</a>,\n",
       " <a href=\"javascript:melon.play.playSong('19030101',33510307);\" title=\"상상더하기 재생\">상상더하기</a>,\n",
       " <a href=\"javascript:melon.play.playSong('19030101',8130796);\" title=\"상상더하기 재생\">상상더하기</a>,\n",
       " <a href=\"javascript:melon.play.playSong('19030101',33359725);\" title=\"사이렌 Remix (Feat. UNEDUCATED KID, Paul Blanco) 재생\">사이렌 Remix (Feat. UNEDUCATED KID, Paul Blanco)</a>,\n",
       " <a href=\"javascript:melon.play.playSong('19030101',1944399);\" title=\"Timeless 재생\">Timeless</a>,\n",
       " <a href=\"javascript:melon.play.playSong('19030101',3414749);\" title=\"내 손을 잡아 재생\">내 손을 잡아</a>,\n",
       " <a href=\"javascript:melon.play.playSong('19030101',33315511);\" title=\"멜로디 재생\">멜로디</a>,\n",
       " <a href=\"javascript:melon.play.playSong('19030101',33167063);\" title=\"밝게 빛나는 별이 되어 비춰줄게 재생\">밝게 빛나는 별이 되어 비춰줄게</a>,\n",
       " <a href=\"javascript:melon.play.playSong('19030101',33480898);\" title=\"신호등 재생\">신호등</a>,\n",
       " <a href=\"javascript:melon.play.playSong('19030101',33447280);\" title=\"마.피.아. In the morning 재생\">마.피.아. In the morning</a>,\n",
       " <a href=\"javascript:melon.play.playSong('19030101',1854856);\" title=\"라라라 재생\">라라라</a>,\n",
       " <a href=\"javascript:melon.play.playSong('19030101',33331004);\" title=\"LOVE DAY (2021) (바른연애 길잡이 X 양요섭, 정은지) 재생\">LOVE DAY (2021) (바른연애 길잡이 X 양요섭, 정은지)</a>,\n",
       " <a href=\"javascript:melon.play.playSong('19030101',33061995);\" title=\"밤하늘의 별을(2020) 재생\">밤하늘의 별을(2020)</a>,\n",
       " <a href=\"javascript:melon.play.playSong('19030101',32962258);\" title=\"Savage Love (Laxed - Siren Beat) (BTS Remix) 재생\">Savage Love (Laxed - Siren Beat) (BTS Remix)</a>,\n",
       " <a href=\"javascript:melon.play.playSong('19030101',32961718);\" title=\"Lovesick Girls 재생\">Lovesick Girls</a>,\n",
       " <a href=\"javascript:melon.play.playSong('19030101',33372783);\" title=\"Coin 재생\">Coin</a>,\n",
       " <a href=\"javascript:melon.play.playSong('19030101',32559782);\" title=\"Dolphin 재생\">Dolphin</a>,\n",
       " <a href=\"javascript:melon.play.playSong('19030101',33013877);\" title=\"잠이 오질 않네요 재생\">잠이 오질 않네요</a>,\n",
       " <a href=\"javascript:melon.play.playSong('19030101',1500196);\" title=\"내사람 재생\">내사람</a>,\n",
       " <a href=\"javascript:melon.play.playSong('19030101',32491274);\" title=\"아로하 재생\">아로하</a>,\n",
       " <a href=\"javascript:melon.play.playSong('19030101',32578498);\" title=\"에잇(Prod.&amp;Feat. SUGA of BTS) 재생\">에잇(Prod.&amp;Feat. SUGA of BTS)</a>,\n",
       " <a href=\"javascript:melon.play.playSong('19030101',31737197);\" title=\"작은 것들을 위한 시 (Boy With Luv) (Feat. Halsey) 재생\">작은 것들을 위한 시 (Boy With Luv) (Feat. Halsey)</a>,\n",
       " <a href=\"javascript:melon.play.playSong('19030101',32794652);\" title=\"취기를 빌려 (취향저격 그녀 X 산들) 재생\">취기를 빌려 (취향저격 그녀 X 산들)</a>,\n",
       " <a href=\"javascript:melon.play.playSong('19030101',32183386);\" title=\"Blueming 재생\">Blueming</a>,\n",
       " <a href=\"javascript:melon.play.playSong('19030101',33346446);\" title=\"On The Ground 재생\">On The Ground</a>,\n",
       " <a href=\"javascript:melon.play.playSong('19030101',32061975);\" title=\"어떻게 이별까지 사랑하겠어, 널 사랑하는 거지 재생\">어떻게 이별까지 사랑하겠어, 널 사랑하는 거지</a>,\n",
       " <a href=\"javascript:melon.play.playSong('19030101',33248758);\" title=\"추억은 만남보다 이별에 남아 재생\">추억은 만남보다 이별에 남아</a>,\n",
       " <a href=\"javascript:melon.play.playSong('19030101',33372788);\" title=\"어푸 (Ah puh) 재생\">어푸 (Ah puh)</a>,\n",
       " <a href=\"javascript:melon.play.playSong('19030101',33077590);\" title=\"VVS (Feat. JUSTHIS) (Prod. GroovyRoom) 재생\">VVS (Feat. JUSTHIS) (Prod. GroovyRoom)</a>,\n",
       " <a href=\"javascript:melon.play.playSong('19030101',33359309);\" title=\"Off My Face 재생\">Off My Face</a>,\n",
       " <a href=\"javascript:melon.play.playSong('19030101',33077234);\" title=\"Life Goes On 재생\">Life Goes On</a>,\n",
       " <a href=\"javascript:melon.play.playSong('19030101',33011180);\" title=\"나랑 같이 걸을래 (바른연애 길잡이 X 적재) 재생\">나랑 같이 걸을래 (바른연애 길잡이 X 적재)</a>,\n",
       " <a href=\"javascript:melon.play.playSong('19030101',33107649);\" title=\"그날에 나는 맘이 편했을까 재생\">그날에 나는 맘이 편했을까</a>,\n",
       " <a href=\"javascript:melon.play.playSong('19030101',30244931);\" title=\"봄날 재생\">봄날</a>,\n",
       " <a href=\"javascript:melon.play.playSong('19030101',31509376);\" title=\"12:45 (Stripped) 재생\">12:45 (Stripped)</a>,\n",
       " <a href=\"javascript:melon.play.playSong('19030101',31029291);\" title=\"2002 재생\">2002</a>,\n",
       " <a href=\"javascript:melon.play.playSong('19030101',32003395);\" title=\"흔들리는 꽃들 속에서 네 샴푸향이 느껴진거야 재생\">흔들리는 꽃들 속에서 네 샴푸향이 느껴진거야</a>,\n",
       " <a href=\"javascript:melon.play.playSong('19030101',32224272);\" title=\"METEOR 재생\">METEOR</a>,\n",
       " <a href=\"javascript:melon.play.playSong('19030101',30962526);\" title=\"모든 날, 모든 순간 (Every day, Every Moment) 재생\">모든 날, 모든 순간 (Every day, Every Moment)</a>,\n",
       " <a href=\"javascript:melon.play.playSong('19030101',33405149);\" title=\"그냥 안아달란 말야 재생\">그냥 안아달란 말야</a>,\n",
       " <a href=\"javascript:melon.play.playSong('19030101',3894276);\" title=\"오래된 노래 재생\">오래된 노래</a>,\n",
       " <a href=\"javascript:melon.play.playSong('19030101',32224166);\" title=\"너의 번호를 누르고 (Prod. 영화처럼) 재생\">너의 번호를 누르고 (Prod. 영화처럼)</a>,\n",
       " <a href=\"javascript:melon.play.playSong('19030101',32559781);\" title=\"살짝 설렜어 (Nonstop) 재생\">살짝 설렜어 (Nonstop)</a>,\n",
       " <a href=\"javascript:melon.play.playSong('19030101',32438894);\" title=\"어떻게 지내 (Prod. By VAN.C) 재생\">어떻게 지내 (Prod. By VAN.C)</a>,\n",
       " <a href=\"javascript:melon.play.playSong('19030101',32055419);\" title=\"Memories 재생\">Memories</a>,\n",
       " <a href=\"javascript:melon.play.playSong('19030101',33229299);\" title=\"이 밤을 빌려 말해요 (바른연애 길잡이 X 10CM) 재생\">이 밤을 빌려 말해요 (바른연애 길잡이 X 10CM)</a>,\n",
       " <a href=\"javascript:melon.play.playSong('19030101',31853557);\" title=\"오늘도 빛나는 너에게 (To You My Light) (Feat.이라온) 재생\">오늘도 빛나는 너에게 (To You My Light) (Feat.이라온)</a>,\n",
       " <a href=\"javascript:melon.play.playSong('19030101',32525311);\" title=\"사실 나는 (Feat.전건호) 재생\">사실 나는 (Feat.전건호)</a>,\n",
       " <a href=\"javascript:melon.play.playSong('19030101',32156286);\" title=\"늦은 밤 너의 집 앞 골목길에서 재생\">늦은 밤 너의 집 앞 골목길에서</a>,\n",
       " <a href=\"javascript:melon.play.playSong('19030101',33618271);\" title=\"하루만 더 재생\">하루만 더</a>,\n",
       " <a href=\"javascript:melon.play.playSong('19030101',32720013);\" title=\"How You Like That 재생\">How You Like That</a>,\n",
       " <a href=\"javascript:melon.play.playSong('19030101',33571535);\" title=\"추적이는 여름 비가 되어 재생\">추적이는 여름 비가 되어</a>,\n",
       " <a href=\"javascript:melon.play.playSong('19030101',32998018);\" title=\"힘든 건 사랑이 아니다 재생\">힘든 건 사랑이 아니다</a>,\n",
       " <a href=\"javascript:melon.play.playSong('19030101',33572275);\" title=\"오늘따라 더 미운 그대가 재생\">오늘따라 더 미운 그대가</a>,\n",
       " <a href=\"javascript:melon.play.playSong('19030101',33347390);\" title=\"이렇게 좋아해 본 적이 없어요 재생\">이렇게 좋아해 본 적이 없어요</a>,\n",
       " <a href=\"javascript:melon.play.playSong('19030101',33510308);\" title=\"체념 재생\">체념</a>,\n",
       " <a href=\"javascript:melon.play.playSong('19030101',711626);\" title=\"살다가 재생\">살다가</a>,\n",
       " <a href=\"javascript:melon.play.playSong('19030101',31979846);\" title=\"Dance Monkey 재생\">Dance Monkey</a>,\n",
       " <a href=\"javascript:melon.play.playSong('19030101',33601086);\" title=\"허리춤 재생\">허리춤</a>,\n",
       " <a href=\"javascript:melon.play.playSong('19030101',33496587);\" title=\"다정히 내 이름을 부르면 재생\">다정히 내 이름을 부르면</a>,\n",
       " <a href=\"javascript:melon.play.playSong('19030101',33439096);\" title=\"너의 발걸음에 빛을 비춰줄게 (Prod. 조영수) 재생\">너의 발걸음에 빛을 비춰줄게 (Prod. 조영수)</a>,\n",
       " <a href=\"javascript:melon.play.playSong('19030101',32508053);\" title=\"이제 나만 믿어요 재생\">이제 나만 믿어요</a>,\n",
       " <a href=\"javascript:melon.play.playSong('19030101',32378104);\" title=\"마음을 드려요 재생\">마음을 드려요</a>,\n",
       " <a href=\"javascript:melon.play.playSong('19030101',32143487);\" title=\"Love poem 재생\">Love poem</a>,\n",
       " <a href=\"javascript:melon.play.playSong('19030101',31341518);\" title=\"Paris In The Rain 재생\">Paris In The Rain</a>,\n",
       " <a href=\"javascript:melon.play.playSong('19030101',31388145);\" title=\"너를 만나 재생\">너를 만나</a>,\n",
       " <a href=\"javascript:melon.play.playSong('19030101',32871975);\" title=\"내 마음이 움찔했던 순간 (취향저격 그녀 X 규현) 재생\">내 마음이 움찔했던 순간 (취향저격 그녀 X 규현)</a>,\n",
       " <a href=\"javascript:melon.play.playSong('19030101',33372787);\" title=\"아이와 나의 바다 재생\">아이와 나의 바다</a>,\n",
       " <a href=\"javascript:melon.play.playSong('19030101',32853712);\" title=\"When We Disco (Duet with 선미) 재생\">When We Disco (Duet with 선미)</a>,\n",
       " <a href=\"javascript:melon.play.playSong('19030101',33164083);\" title=\"우린 어쩌다 헤어진 걸까 재생\">우린 어쩌다 헤어진 걸까</a>,\n",
       " <a href=\"javascript:melon.play.playSong('19030101',32187544);\" title=\"우리 왜 헤어져야 해 재생\">우리 왜 헤어져야 해</a>,\n",
       " <a href=\"javascript:melon.play.playSong('19030101',32345931);\" title=\"시작 재생\">시작</a>,\n",
       " <a href=\"javascript:melon.play.playSong('19030101',32137576);\" title=\"Don't Start Now 재생\">Don't Start Now</a>,\n",
       " <a href=\"javascript:melon.play.playSong('19030101',33260801);\" title=\"고백 (바른연애 길잡이 X 허각) 재생\">고백 (바른연애 길잡이 X 허각)</a>,\n",
       " <a href=\"javascript:melon.play.playSong('19030101',30773554);\" title=\"Downtown Baby 재생\">Downtown Baby</a>,\n",
       " <a href=\"javascript:melon.play.playSong('19030101',33508682);\" title=\"If You Love Me (Feat. 주헌 (몬스타엑스)) 재생\">If You Love Me (Feat. 주헌 (몬스타엑스))</a>,\n",
       " <a href=\"javascript:melon.play.playSong('19030101',32122539);\" title=\"Maniac 재생\">Maniac</a>,\n",
       " <a href=\"javascript:melon.play.playSong('19030101',33594897);\" title=\"Ready to love 재생\">Ready to love</a>,\n",
       " <a href=\"javascript:melon.play.playSong('19030101',33295747);\" title=\"함께 했는데 이별은 나 혼자인 거야 재생\">함께 했는데 이별은 나 혼자인 거야</a>,\n",
       " <a href=\"javascript:melon.play.playSong('19030101',31984204);\" title=\"안녕 재생\">안녕</a>,\n",
       " <a href=\"javascript:melon.play.playSong('19030101',33430095);\" title=\"기다릴게 재생\">기다릴게</a>,\n",
       " <a href=\"javascript:melon.play.playSong('19030101',33372784);\" title=\"봄 안녕 봄 재생\">봄 안녕 봄</a>,\n",
       " <a href=\"javascript:melon.play.playSong('19030101',32777869);\" title=\"거짓말이라도 해서 널 보고싶어 재생\">거짓말이라도 해서 널 보고싶어</a>,\n",
       " <a href=\"javascript:melon.play.playSong('19030101',33115807);\" title=\"내일이 오면 (Feat. 기리보이, BIG Naughty (서동현)) 재생\">내일이 오면 (Feat. 기리보이, BIG Naughty (서동현))</a>,\n",
       " <a href=\"javascript:melon.play.playSong('19030101',33456218);\" title=\"맛 (Hot Sauce) 재생\">맛 (Hot Sauce)</a>,\n",
       " <a href=\"javascript:melon.play.playSong('19030101',33476728);\" title=\"서울의 잠 못 이루는 밤 (Feat. 이수현) 재생\">서울의 잠 못 이루는 밤 (Feat. 이수현)</a>]"
      ]
     },
     "execution_count": 8,
     "metadata": {},
     "output_type": "execute_result"
    }
   ],
   "source": [
    "songs=melon.select('div.ellipsis.rank01 > span > a')\n",
    "songs"
   ]
  },
  {
   "cell_type": "code",
   "execution_count": 9,
   "id": "00bb805e",
   "metadata": {},
   "outputs": [
    {
     "data": {
      "text/plain": [
       "(100, bs4.element.ResultSet)"
      ]
     },
     "execution_count": 9,
     "metadata": {},
     "output_type": "execute_result"
    }
   ],
   "source": [
    "len(songs), type(songs)"
   ]
  },
  {
   "cell_type": "code",
   "execution_count": 10,
   "id": "45ab4e0b",
   "metadata": {},
   "outputs": [
    {
     "data": {
      "text/plain": [
       "<a href=\"javascript:melon.play.playSong('19030101',33487342);\" title=\"Next Level 재생\">Next Level</a>"
      ]
     },
     "execution_count": 10,
     "metadata": {},
     "output_type": "execute_result"
    }
   ],
   "source": [
    "song=songs[0]\n",
    "song"
   ]
  },
  {
   "cell_type": "code",
   "execution_count": 11,
   "id": "f67aa61b",
   "metadata": {},
   "outputs": [
    {
     "data": {
      "text/plain": [
       "'Next Level'"
      ]
     },
     "execution_count": 11,
     "metadata": {},
     "output_type": "execute_result"
    }
   ],
   "source": [
    "song.text.strip()"
   ]
  },
  {
   "cell_type": "code",
   "execution_count": 12,
   "id": "31c0218f",
   "metadata": {},
   "outputs": [
    {
     "data": {
      "text/plain": [
       "'Next Level 재생'"
      ]
     },
     "execution_count": 12,
     "metadata": {},
     "output_type": "execute_result"
    }
   ],
   "source": [
    "song['title']"
   ]
  },
  {
   "cell_type": "code",
   "execution_count": 13,
   "id": "69370be6",
   "metadata": {},
   "outputs": [
    {
     "name": "stdout",
     "output_type": "stream",
     "text": [
      "Next Level Next Level 재생\n",
      "Butter Butter 재생\n",
      "헤픈 우연 헤픈 우연 재생\n",
      "치맛바람 (Chi Mat Ba Ram) 치맛바람 (Chi Mat Ba Ram) 재생\n",
      "Dun Dun Dance Dun Dun Dance 재생\n",
      "Peaches (Feat. Daniel Caesar & Giveon) Peaches (Feat. Daniel Caesar & Giveon) 재생\n",
      "롤린 (Rollin') 롤린 (Rollin') 재생\n",
      "Alcohol-Free Alcohol-Free 재생\n",
      "라일락 라일락 재생\n",
      "ASAP ASAP 재생\n",
      "운전만해 (We Ride) 운전만해 (We Ride) 재생\n",
      "Dynamite Dynamite 재생\n",
      "Celebrity Celebrity 재생\n",
      "비와 당신 비와 당신 재생\n",
      "안녕 (Hello) 안녕 (Hello) 재생\n",
      "상상더하기 상상더하기 재생\n",
      "상상더하기 상상더하기 재생\n",
      "사이렌 Remix (Feat. UNEDUCATED KID, Paul Blanco) 사이렌 Remix (Feat. UNEDUCATED KID, Paul Blanco) 재생\n",
      "Timeless Timeless 재생\n",
      "내 손을 잡아 내 손을 잡아 재생\n",
      "멜로디 멜로디 재생\n",
      "밝게 빛나는 별이 되어 비춰줄게 밝게 빛나는 별이 되어 비춰줄게 재생\n",
      "신호등 신호등 재생\n",
      "마.피.아. In the morning 마.피.아. In the morning 재생\n",
      "라라라 라라라 재생\n",
      "LOVE DAY (2021) (바른연애 길잡이 X 양요섭, 정은지) LOVE DAY (2021) (바른연애 길잡이 X 양요섭, 정은지) 재생\n",
      "밤하늘의 별을(2020) 밤하늘의 별을(2020) 재생\n",
      "Savage Love (Laxed - Siren Beat) (BTS Remix) Savage Love (Laxed - Siren Beat) (BTS Remix) 재생\n",
      "Lovesick Girls Lovesick Girls 재생\n",
      "Coin Coin 재생\n",
      "Dolphin Dolphin 재생\n",
      "잠이 오질 않네요 잠이 오질 않네요 재생\n",
      "내사람 내사람 재생\n",
      "아로하 아로하 재생\n",
      "에잇(Prod.&Feat. SUGA of BTS) 에잇(Prod.&Feat. SUGA of BTS) 재생\n",
      "작은 것들을 위한 시 (Boy With Luv) (Feat. Halsey) 작은 것들을 위한 시 (Boy With Luv) (Feat. Halsey) 재생\n",
      "취기를 빌려 (취향저격 그녀 X 산들) 취기를 빌려 (취향저격 그녀 X 산들) 재생\n",
      "Blueming Blueming 재생\n",
      "On The Ground On The Ground 재생\n",
      "어떻게 이별까지 사랑하겠어, 널 사랑하는 거지 어떻게 이별까지 사랑하겠어, 널 사랑하는 거지 재생\n",
      "추억은 만남보다 이별에 남아 추억은 만남보다 이별에 남아 재생\n",
      "어푸 (Ah puh) 어푸 (Ah puh) 재생\n",
      "VVS (Feat. JUSTHIS) (Prod. GroovyRoom) VVS (Feat. JUSTHIS) (Prod. GroovyRoom) 재생\n",
      "Off My Face Off My Face 재생\n",
      "Life Goes On Life Goes On 재생\n",
      "나랑 같이 걸을래 (바른연애 길잡이 X 적재) 나랑 같이 걸을래 (바른연애 길잡이 X 적재) 재생\n",
      "그날에 나는 맘이 편했을까 그날에 나는 맘이 편했을까 재생\n",
      "봄날 봄날 재생\n",
      "12:45 (Stripped) 12:45 (Stripped) 재생\n",
      "2002 2002 재생\n",
      "흔들리는 꽃들 속에서 네 샴푸향이 느껴진거야 흔들리는 꽃들 속에서 네 샴푸향이 느껴진거야 재생\n",
      "METEOR METEOR 재생\n",
      "모든 날, 모든 순간 (Every day, Every Moment) 모든 날, 모든 순간 (Every day, Every Moment) 재생\n",
      "그냥 안아달란 말야 그냥 안아달란 말야 재생\n",
      "오래된 노래 오래된 노래 재생\n",
      "너의 번호를 누르고 (Prod. 영화처럼) 너의 번호를 누르고 (Prod. 영화처럼) 재생\n",
      "살짝 설렜어 (Nonstop) 살짝 설렜어 (Nonstop) 재생\n",
      "어떻게 지내 (Prod. By VAN.C) 어떻게 지내 (Prod. By VAN.C) 재생\n",
      "Memories Memories 재생\n",
      "이 밤을 빌려 말해요 (바른연애 길잡이 X 10CM) 이 밤을 빌려 말해요 (바른연애 길잡이 X 10CM) 재생\n",
      "오늘도 빛나는 너에게 (To You My Light) (Feat.이라온) 오늘도 빛나는 너에게 (To You My Light) (Feat.이라온) 재생\n",
      "사실 나는 (Feat.전건호) 사실 나는 (Feat.전건호) 재생\n",
      "늦은 밤 너의 집 앞 골목길에서 늦은 밤 너의 집 앞 골목길에서 재생\n",
      "하루만 더 하루만 더 재생\n",
      "How You Like That How You Like That 재생\n",
      "추적이는 여름 비가 되어 추적이는 여름 비가 되어 재생\n",
      "힘든 건 사랑이 아니다 힘든 건 사랑이 아니다 재생\n",
      "오늘따라 더 미운 그대가 오늘따라 더 미운 그대가 재생\n",
      "이렇게 좋아해 본 적이 없어요 이렇게 좋아해 본 적이 없어요 재생\n",
      "체념 체념 재생\n",
      "살다가 살다가 재생\n",
      "Dance Monkey Dance Monkey 재생\n",
      "허리춤 허리춤 재생\n",
      "다정히 내 이름을 부르면 다정히 내 이름을 부르면 재생\n",
      "너의 발걸음에 빛을 비춰줄게 (Prod. 조영수) 너의 발걸음에 빛을 비춰줄게 (Prod. 조영수) 재생\n",
      "이제 나만 믿어요 이제 나만 믿어요 재생\n",
      "마음을 드려요 마음을 드려요 재생\n",
      "Love poem Love poem 재생\n",
      "Paris In The Rain Paris In The Rain 재생\n",
      "너를 만나 너를 만나 재생\n",
      "내 마음이 움찔했던 순간 (취향저격 그녀 X 규현) 내 마음이 움찔했던 순간 (취향저격 그녀 X 규현) 재생\n",
      "아이와 나의 바다 아이와 나의 바다 재생\n",
      "When We Disco (Duet with 선미) When We Disco (Duet with 선미) 재생\n",
      "우린 어쩌다 헤어진 걸까 우린 어쩌다 헤어진 걸까 재생\n",
      "우리 왜 헤어져야 해 우리 왜 헤어져야 해 재생\n",
      "시작 시작 재생\n",
      "Don't Start Now Don't Start Now 재생\n",
      "고백 (바른연애 길잡이 X 허각) 고백 (바른연애 길잡이 X 허각) 재생\n",
      "Downtown Baby Downtown Baby 재생\n",
      "If You Love Me (Feat. 주헌 (몬스타엑스)) If You Love Me (Feat. 주헌 (몬스타엑스)) 재생\n",
      "Maniac Maniac 재생\n",
      "Ready to love Ready to love 재생\n",
      "함께 했는데 이별은 나 혼자인 거야 함께 했는데 이별은 나 혼자인 거야 재생\n",
      "안녕 안녕 재생\n",
      "기다릴게 기다릴게 재생\n",
      "봄 안녕 봄 봄 안녕 봄 재생\n",
      "거짓말이라도 해서 널 보고싶어 거짓말이라도 해서 널 보고싶어 재생\n",
      "내일이 오면 (Feat. 기리보이, BIG Naughty (서동현)) 내일이 오면 (Feat. 기리보이, BIG Naughty (서동현)) 재생\n",
      "맛 (Hot Sauce) 맛 (Hot Sauce) 재생\n",
      "서울의 잠 못 이루는 밤 (Feat. 이수현) 서울의 잠 못 이루는 밤 (Feat. 이수현) 재생\n"
     ]
    }
   ],
   "source": [
    "for song in songs:\n",
    "    print(song.text.strip(),song['title'])"
   ]
  },
  {
   "cell_type": "code",
   "execution_count": null,
   "id": "3b1c25ed",
   "metadata": {},
   "outputs": [],
   "source": []
  }
 ],
 "metadata": {
  "kernelspec": {
   "display_name": "Python 3",
   "language": "python",
   "name": "python3"
  },
  "language_info": {
   "codemirror_mode": {
    "name": "ipython",
    "version": 3
   },
   "file_extension": ".py",
   "mimetype": "text/x-python",
   "name": "python",
   "nbconvert_exporter": "python",
   "pygments_lexer": "ipython3",
   "version": "3.6.4"
  }
 },
 "nbformat": 4,
 "nbformat_minor": 5
}
