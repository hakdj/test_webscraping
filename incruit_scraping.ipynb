{
 "cells": [
  {
   "cell_type": "markdown",
   "id": "815d0d16",
   "metadata": {},
   "source": [
    "# 채용 사이트  스크래핑 "
   ]
  },
  {
   "cell_type": "code",
   "execution_count": 1,
   "id": "2b92fa20",
   "metadata": {},
   "outputs": [],
   "source": [
    "from selenium import webdriver\n",
    "import time"
   ]
  },
  {
   "cell_type": "code",
   "execution_count": 2,
   "id": "ef5fa745",
   "metadata": {},
   "outputs": [],
   "source": [
    "browser = webdriver.Chrome('./chromedriver.exe')"
   ]
  },
  {
   "cell_type": "code",
   "execution_count": 3,
   "id": "486c806c",
   "metadata": {},
   "outputs": [],
   "source": [
    "browser.get('https://www.incruit.com/')"
   ]
  },
  {
   "cell_type": "code",
   "execution_count": 4,
   "id": "0024476e",
   "metadata": {},
   "outputs": [],
   "source": [
    "browser.get('https://job.incruit.com/jobdb_list/searchjob.asp?occ2=632')"
   ]
  },
  {
   "cell_type": "markdown",
   "id": "8df8d00b",
   "metadata": {},
   "source": [
    "### bs 사용"
   ]
  },
  {
   "cell_type": "code",
   "execution_count": 5,
   "id": "f337045f",
   "metadata": {},
   "outputs": [],
   "source": [
    "from bs4 import BeautifulSoup"
   ]
  },
  {
   "cell_type": "code",
   "execution_count": 6,
   "id": "e04cc56f",
   "metadata": {},
   "outputs": [],
   "source": [
    "html = BeautifulSoup(browser.page_source, 'html.parser')"
   ]
  },
  {
   "cell_type": "code",
   "execution_count": 7,
   "id": "15da604e",
   "metadata": {},
   "outputs": [
    {
     "data": {
      "text/plain": [
       "(bs4.element.ResultSet, 60)"
      ]
     },
     "execution_count": 7,
     "metadata": {},
     "output_type": "execute_result"
    }
   ],
   "source": [
    "tags = html.select('div.n_job_list_table_a > table > tbody > tr')\n",
    "type(tags), len(tags)"
   ]
  },
  {
   "cell_type": "code",
   "execution_count": 8,
   "id": "d2659396",
   "metadata": {},
   "outputs": [],
   "source": [
    "tag = tags[0]"
   ]
  },
  {
   "cell_type": "code",
   "execution_count": 9,
   "id": "56c121e5",
   "metadata": {},
   "outputs": [
    {
     "data": {
      "text/plain": [
       "'남서울대학교'"
      ]
     },
     "execution_count": 9,
     "metadata": {},
     "output_type": "execute_result"
    }
   ],
   "source": [
    "# Company Name\n",
    "tag.select('div.companys > div > span > a')[0]['title']"
   ]
  },
  {
   "cell_type": "code",
   "execution_count": 10,
   "id": "beba9285",
   "metadata": {},
   "outputs": [
    {
     "data": {
      "text/plain": [
       "'~07.06 (화)'"
      ]
     },
     "execution_count": 10,
     "metadata": {},
     "output_type": "execute_result"
    }
   ],
   "source": [
    "# Due Date\n",
    "tag.select('div.ddays > p')[1].text.strip()"
   ]
  },
  {
   "cell_type": "code",
   "execution_count": 11,
   "id": "ab264167",
   "metadata": {},
   "outputs": [
    {
     "data": {
      "text/plain": [
       "300"
      ]
     },
     "execution_count": 11,
     "metadata": {},
     "output_type": "execute_result"
    }
   ],
   "source": [
    "uri = 'https://job.incruit.com/jobdb_list/searchjob.asp?occ2=632&page='\n",
    "\n",
    "results = [] # or list()\n",
    "\n",
    "for page in range(1,6) :\n",
    "    target = uri + str(page)\n",
    "    browser.get(target)\n",
    "    html = browser.page_source\n",
    "    \n",
    "    soup = BeautifulSoup(html, 'html.parser')\n",
    "    tags = soup.select('div.n_job_list_table_a > table > tbody > tr')\n",
    "    \n",
    "    for tag in tags:\n",
    "        name = tag.select('div.companys > div > span > a')[0]['title']\n",
    "        if len(tag.select('div.ddays > p')) == 2 :\n",
    "            date = tag.select('div.ddays > p')[1].text.strip()\n",
    "        else :\n",
    "            date = tag.select('div.ddays > p')[0].text.strip()\n",
    "        results.append([name, date])\n",
    "\n",
    "len(results)"
   ]
  },
  {
   "cell_type": "code",
   "execution_count": 12,
   "id": "72dc2439",
   "metadata": {},
   "outputs": [],
   "source": [
    "import pandas as pd"
   ]
  },
  {
   "cell_type": "code",
   "execution_count": 13,
   "id": "bc2ebde4",
   "metadata": {},
   "outputs": [
    {
     "data": {
      "text/html": [
       "<div>\n",
       "<style scoped>\n",
       "    .dataframe tbody tr th:only-of-type {\n",
       "        vertical-align: middle;\n",
       "    }\n",
       "\n",
       "    .dataframe tbody tr th {\n",
       "        vertical-align: top;\n",
       "    }\n",
       "\n",
       "    .dataframe thead th {\n",
       "        text-align: right;\n",
       "    }\n",
       "</style>\n",
       "<table border=\"1\" class=\"dataframe\">\n",
       "  <thead>\n",
       "    <tr style=\"text-align: right;\">\n",
       "      <th></th>\n",
       "      <th>Company_Name</th>\n",
       "      <th>Due_Data</th>\n",
       "    </tr>\n",
       "  </thead>\n",
       "  <tbody>\n",
       "    <tr>\n",
       "      <th>0</th>\n",
       "      <td>남서울대학교</td>\n",
       "      <td>~07.06 (화)</td>\n",
       "    </tr>\n",
       "    <tr>\n",
       "      <th>1</th>\n",
       "      <td>대구경북첨단의료산업진흥재단</td>\n",
       "      <td>~07.12 (월)</td>\n",
       "    </tr>\n",
       "    <tr>\n",
       "      <th>2</th>\n",
       "      <td>재단법인 서울산업진흥원</td>\n",
       "      <td>~07.12 (월)</td>\n",
       "    </tr>\n",
       "    <tr>\n",
       "      <th>3</th>\n",
       "      <td>(주)더존비즈온</td>\n",
       "      <td>~07.11 (일)</td>\n",
       "    </tr>\n",
       "    <tr>\n",
       "      <th>4</th>\n",
       "      <td>한국산지보전협회</td>\n",
       "      <td>~06.30 (수)</td>\n",
       "    </tr>\n",
       "    <tr>\n",
       "      <th>...</th>\n",
       "      <td>...</td>\n",
       "      <td>...</td>\n",
       "    </tr>\n",
       "    <tr>\n",
       "      <th>295</th>\n",
       "      <td>(주)엔씨소프트</td>\n",
       "      <td>~07.30 (금)</td>\n",
       "    </tr>\n",
       "    <tr>\n",
       "      <th>296</th>\n",
       "      <td>파워에이치알</td>\n",
       "      <td>채용시</td>\n",
       "    </tr>\n",
       "    <tr>\n",
       "      <th>297</th>\n",
       "      <td>파워에이치알</td>\n",
       "      <td>채용시</td>\n",
       "    </tr>\n",
       "    <tr>\n",
       "      <th>298</th>\n",
       "      <td>(주)엔씨소프트</td>\n",
       "      <td>~07.15 (목)</td>\n",
       "    </tr>\n",
       "    <tr>\n",
       "      <th>299</th>\n",
       "      <td>현대자동차(주)</td>\n",
       "      <td>~07.11 (일)</td>\n",
       "    </tr>\n",
       "  </tbody>\n",
       "</table>\n",
       "<p>300 rows × 2 columns</p>\n",
       "</div>"
      ],
      "text/plain": [
       "       Company_Name    Due_Data\n",
       "0            남서울대학교  ~07.06 (화)\n",
       "1    대구경북첨단의료산업진흥재단  ~07.12 (월)\n",
       "2      재단법인 서울산업진흥원  ~07.12 (월)\n",
       "3          (주)더존비즈온  ~07.11 (일)\n",
       "4          한국산지보전협회  ~06.30 (수)\n",
       "..              ...         ...\n",
       "295        (주)엔씨소프트  ~07.30 (금)\n",
       "296          파워에이치알         채용시\n",
       "297          파워에이치알         채용시\n",
       "298        (주)엔씨소프트  ~07.15 (목)\n",
       "299        현대자동차(주)  ~07.11 (일)\n",
       "\n",
       "[300 rows x 2 columns]"
      ]
     },
     "execution_count": 13,
     "metadata": {},
     "output_type": "execute_result"
    }
   ],
   "source": [
    "\n",
    "df = pd.DataFrame(results, columns=['Company_Name','Due_Data'])\n",
    "df"
   ]
  },
  {
   "cell_type": "code",
   "execution_count": 14,
   "id": "06e962c2",
   "metadata": {},
   "outputs": [],
   "source": [
    "\n",
    "df.to_excel('./saves/incruit_scraping.xls',index=False)"
   ]
  },
  {
   "cell_type": "code",
   "execution_count": null,
   "id": "9818bf75",
   "metadata": {},
   "outputs": [],
   "source": []
  },
  {
   "cell_type": "code",
   "execution_count": null,
   "id": "9ab98937",
   "metadata": {},
   "outputs": [],
   "source": []
  },
  {
   "cell_type": "code",
   "execution_count": null,
   "id": "c1271512",
   "metadata": {},
   "outputs": [],
   "source": []
  }
 ],
 "metadata": {
  "kernelspec": {
   "display_name": "Python 3",
   "language": "python",
   "name": "python3"
  },
  "language_info": {
   "codemirror_mode": {
    "name": "ipython",
    "version": 3
   },
   "file_extension": ".py",
   "mimetype": "text/x-python",
   "name": "python",
   "nbconvert_exporter": "python",
   "pygments_lexer": "ipython3",
   "version": "3.6.4"
  }
 },
 "nbformat": 4,
 "nbformat_minor": 5
}
