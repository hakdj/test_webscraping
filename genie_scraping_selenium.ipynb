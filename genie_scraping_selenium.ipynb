{
 "cells": [
  {
   "cell_type": "code",
   "execution_count": 3,
   "id": "047d0699",
   "metadata": {},
   "outputs": [],
   "source": [
    "from selenium import webdriver"
   ]
  },
  {
   "cell_type": "code",
   "execution_count": 4,
   "id": "c752454f",
   "metadata": {},
   "outputs": [],
   "source": [
    "browser=webdriver.Chrome('./chromedriver.exe')"
   ]
  },
  {
   "cell_type": "code",
   "execution_count": 5,
   "id": "5a7d36c0",
   "metadata": {},
   "outputs": [],
   "source": [
    "browser.get('https://www.genie.co.kr/chart/top200')"
   ]
  },
  {
   "cell_type": "code",
   "execution_count": 6,
   "id": "c8c543fc",
   "metadata": {},
   "outputs": [],
   "source": [
    "html=browser.page_source"
   ]
  },
  {
   "cell_type": "code",
   "execution_count": 7,
   "id": "02af8678",
   "metadata": {},
   "outputs": [],
   "source": [
    "from bs4 import BeautifulSoup as bs"
   ]
  },
  {
   "cell_type": "code",
   "execution_count": 8,
   "id": "f4e39c48",
   "metadata": {},
   "outputs": [],
   "source": [
    "genie=bs(html, 'html.parser')"
   ]
  },
  {
   "cell_type": "code",
   "execution_count": 9,
   "id": "7566639e",
   "metadata": {},
   "outputs": [
    {
     "data": {
      "text/plain": [
       "(1, bs4.BeautifulSoup)"
      ]
     },
     "execution_count": 9,
     "metadata": {},
     "output_type": "execute_result"
    }
   ],
   "source": [
    "len(genie), type(genie)"
   ]
  },
  {
   "cell_type": "code",
   "execution_count": 10,
   "id": "b035fee0",
   "metadata": {},
   "outputs": [],
   "source": [
    "songs=genie.select('td.info ')"
   ]
  },
  {
   "cell_type": "code",
   "execution_count": 11,
   "id": "008b268e",
   "metadata": {},
   "outputs": [
    {
     "data": {
      "text/plain": [
       "(50, bs4.element.ResultSet)"
      ]
     },
     "execution_count": 11,
     "metadata": {},
     "output_type": "execute_result"
    }
   ],
   "source": [
    "len(songs), type(songs)"
   ]
  },
  {
   "cell_type": "code",
   "execution_count": 15,
   "id": "1131a67a",
   "metadata": {},
   "outputs": [
    {
     "data": {
      "text/plain": [
       "<td class=\"info\">\n",
       "<a class=\"title ellipsis\" href=\"#\" onclick=\"fnPlaySong('93599531','1');return false;\" title=\"재생\">\n",
       "                                        \n",
       "                                            \n",
       "                                        \n",
       "                                        \n",
       "                                        \n",
       "                                        \n",
       "                                            \n",
       "                                                하루만 더</a>\n",
       "<a class=\"artist ellipsis\" href=\"#\" onclick=\"fnViewArtist('14957679');return false;\">빅마마 (Big Mama)</a>\n",
       "<div class=\"toggle-button-box\">\n",
       "<button class=\"btn artist-etc\" onclick=\"fnRelationArtistList('93599531');\" type=\"button\">외</button>\n",
       "<ul class=\"list\" id=\"RelationArtist_93599531\"></ul>\n",
       "</div>\n",
       "<i class=\"bar\">|</i>\n",
       "<a class=\"albumtitle ellipsis\" href=\"#\" onclick=\"fnViewAlbumLayer('82105644');return false;\">하루만 더</a>\n",
       "</td>"
      ]
     },
     "execution_count": 15,
     "metadata": {},
     "output_type": "execute_result"
    }
   ],
   "source": [
    "song=songs[0]\n",
    "song"
   ]
  },
  {
   "cell_type": "markdown",
   "id": "defe3b72",
   "metadata": {},
   "source": [
    "곡명 : a.title, 가수이름 : a.artist"
   ]
  },
  {
   "cell_type": "code",
   "execution_count": 19,
   "id": "fbc4b750",
   "metadata": {},
   "outputs": [
    {
     "data": {
      "text/plain": [
       "[<a class=\"title ellipsis\" href=\"#\" onclick=\"fnPlaySong('93599531','1');return false;\" title=\"재생\">\n",
       "                                         \n",
       "                                             \n",
       "                                         \n",
       "                                         \n",
       "                                         \n",
       "                                         \n",
       "                                             \n",
       "                                                 하루만 더</a>]"
      ]
     },
     "execution_count": 19,
     "metadata": {},
     "output_type": "execute_result"
    }
   ],
   "source": [
    "s=song.select('a.title')\n",
    "len(s), type(s)\n",
    "s"
   ]
  },
  {
   "cell_type": "markdown",
   "id": "8d6aabbb",
   "metadata": {},
   "source": [
    "* 위에 상태에서는 (tag,text, 등)안되는 이유가 s가 위에서는 ResultSet형태로 되어있어 리스트 형태로 되어 있기 떄문에 못함"
   ]
  },
  {
   "cell_type": "code",
   "execution_count": 20,
   "id": "d9f4ad9c",
   "metadata": {},
   "outputs": [
    {
     "data": {
      "text/plain": [
       "<a class=\"title ellipsis\" href=\"#\" onclick=\"fnPlaySong('93599531','1');return false;\" title=\"재생\">\n",
       "                                        \n",
       "                                            \n",
       "                                        \n",
       "                                        \n",
       "                                        \n",
       "                                        \n",
       "                                            \n",
       "                                                하루만 더</a>"
      ]
     },
     "execution_count": 20,
     "metadata": {},
     "output_type": "execute_result"
    }
   ],
   "source": [
    "s[0]"
   ]
  },
  {
   "cell_type": "markdown",
   "id": "66a71f83",
   "metadata": {},
   "source": [
    "* 하지만 []로 빼고 나면 tag나 text가 가능하다!!"
   ]
  },
  {
   "cell_type": "code",
   "execution_count": 23,
   "id": "5ee8fbfd",
   "metadata": {},
   "outputs": [
    {
     "data": {
      "text/plain": [
       "'하루만 더'"
      ]
     },
     "execution_count": 23,
     "metadata": {},
     "output_type": "execute_result"
    }
   ],
   "source": [
    "s[0].text.strip()"
   ]
  },
  {
   "cell_type": "code",
   "execution_count": 30,
   "id": "0eacf75c",
   "metadata": {},
   "outputs": [
    {
     "data": {
      "text/plain": [
       "(1, bs4.element.ResultSet)"
      ]
     },
     "execution_count": 30,
     "metadata": {},
     "output_type": "execute_result"
    }
   ],
   "source": [
    "artist=song.select('a.artist')\n",
    "len(artist), type(artist)"
   ]
  },
  {
   "cell_type": "code",
   "execution_count": 31,
   "id": "649476ec",
   "metadata": {},
   "outputs": [
    {
     "data": {
      "text/plain": [
       "<a class=\"artist ellipsis\" href=\"#\" onclick=\"fnViewArtist('14957679');return false;\">빅마마 (Big Mama)</a>"
      ]
     },
     "execution_count": 31,
     "metadata": {},
     "output_type": "execute_result"
    }
   ],
   "source": [
    "artist[0]"
   ]
  },
  {
   "cell_type": "code",
   "execution_count": 32,
   "id": "49d056d9",
   "metadata": {},
   "outputs": [
    {
     "data": {
      "text/plain": [
       "'빅마마 (Big Mama)'"
      ]
     },
     "execution_count": 32,
     "metadata": {},
     "output_type": "execute_result"
    }
   ],
   "source": [
    "artist[0].text.strip()"
   ]
  },
  {
   "cell_type": "markdown",
   "id": "3d54f5d4",
   "metadata": {},
   "source": [
    "[\n",
    "    [title01, artist01],\n",
    "    [title02, artist02],\n",
    "    [title03, artist03],\n",
    "    ...\n",
    "]"
   ]
  },
  {
   "cell_type": "code",
   "execution_count": 33,
   "id": "3c2d2953",
   "metadata": {},
   "outputs": [],
   "source": [
    "import pandas as pd"
   ]
  },
  {
   "cell_type": "code",
   "execution_count": 43,
   "id": "e6355e33",
   "metadata": {},
   "outputs": [],
   "source": [
    "contents=list()\n",
    "for song in songs:\n",
    "    s=song.select('a.title')\n",
    "    artist=song.select('a.artist')\n",
    "    contents.append([s[0].text.strip(), artist[0].text.strip()])"
   ]
  },
  {
   "cell_type": "code",
   "execution_count": 44,
   "id": "cf552e5a",
   "metadata": {},
   "outputs": [
    {
     "data": {
      "text/plain": [
       "(50, list)"
      ]
     },
     "execution_count": 44,
     "metadata": {},
     "output_type": "execute_result"
    }
   ],
   "source": [
    "len(contents), type(contents)"
   ]
  },
  {
   "cell_type": "code",
   "execution_count": 51,
   "id": "a936faa2",
   "metadata": {},
   "outputs": [],
   "source": [
    "data=pd.DataFrame(contents, columns=['Title','Artist'])"
   ]
  },
  {
   "cell_type": "code",
   "execution_count": 52,
   "id": "a6cd7b59",
   "metadata": {},
   "outputs": [],
   "source": [
    "data.to_excel('C:/Develops/test_webscraping/saves/genie_scraping.xls', index=False)"
   ]
  },
  {
   "cell_type": "code",
   "execution_count": null,
   "id": "ec0f440a",
   "metadata": {},
   "outputs": [],
   "source": []
  },
  {
   "cell_type": "code",
   "execution_count": null,
   "id": "45a1aba9",
   "metadata": {},
   "outputs": [],
   "source": []
  },
  {
   "cell_type": "code",
   "execution_count": null,
   "id": "6458e194",
   "metadata": {},
   "outputs": [],
   "source": []
  },
  {
   "cell_type": "code",
   "execution_count": null,
   "id": "1cc59dcc",
   "metadata": {},
   "outputs": [],
   "source": []
  }
 ],
 "metadata": {
  "kernelspec": {
   "display_name": "Python 3",
   "language": "python",
   "name": "python3"
  },
  "language_info": {
   "codemirror_mode": {
    "name": "ipython",
    "version": 3
   },
   "file_extension": ".py",
   "mimetype": "text/x-python",
   "name": "python",
   "nbconvert_exporter": "python",
   "pygments_lexer": "ipython3",
   "version": "3.6.4"
  }
 },
 "nbformat": 4,
 "nbformat_minor": 5
}
