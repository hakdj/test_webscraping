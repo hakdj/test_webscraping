{
 "cells": [
  {
   "cell_type": "markdown",
   "id": "b5702689",
   "metadata": {},
   "source": [
    "# 순차적으로 하기"
   ]
  },
  {
   "cell_type": "code",
   "execution_count": 1,
   "id": "2695b05f",
   "metadata": {},
   "outputs": [],
   "source": [
    "import requests"
   ]
  },
  {
   "cell_type": "markdown",
   "id": "52a5ba1c",
   "metadata": {},
   "source": [
    "http://media.daum.net/economic/"
   ]
  },
  {
   "cell_type": "code",
   "execution_count": 2,
   "id": "fc321202",
   "metadata": {},
   "outputs": [],
   "source": [
    "path='http://media.daum.net/economic/'\n",
    "req = requests.get(path)"
   ]
  },
  {
   "cell_type": "code",
   "execution_count": 3,
   "id": "326e0a31",
   "metadata": {},
   "outputs": [
    {
     "data": {
      "text/plain": [
       "200"
      ]
     },
     "execution_count": 3,
     "metadata": {},
     "output_type": "execute_result"
    }
   ],
   "source": [
    "req.status_code"
   ]
  },
  {
   "cell_type": "code",
   "execution_count": 4,
   "id": "d3dceee3",
   "metadata": {},
   "outputs": [],
   "source": [
    "from bs4 import BeautifulSoup as bs"
   ]
  },
  {
   "cell_type": "code",
   "execution_count": 5,
   "id": "23fca239",
   "metadata": {},
   "outputs": [],
   "source": [
    "soup=bs(req.content,'html.parser')"
   ]
  },
  {
   "cell_type": "code",
   "execution_count": 6,
   "id": "1b3ad3b6",
   "metadata": {},
   "outputs": [
    {
     "data": {
      "text/plain": [
       "bs4.BeautifulSoup"
      ]
     },
     "execution_count": 6,
     "metadata": {},
     "output_type": "execute_result"
    }
   ],
   "source": [
    "type(soup)"
   ]
  },
  {
   "cell_type": "code",
   "execution_count": 7,
   "id": "98b03de1",
   "metadata": {},
   "outputs": [
    {
     "data": {
      "text/plain": [
       "bs4.element.ResultSet"
      ]
     },
     "execution_count": 7,
     "metadata": {},
     "output_type": "execute_result"
    }
   ],
   "source": [
    "result=soup.select('div > strong.tit_thumb > a[href].link_txt')\n",
    "type(result)"
   ]
  },
  {
   "cell_type": "code",
   "execution_count": 8,
   "id": "f8165307",
   "metadata": {},
   "outputs": [
    {
     "data": {
      "text/plain": [
       "<a class=\"link_txt\" data-tiara-custom=\"contentUniqueKey=hamny-20210624173206279\" data-tiara-id=\"20210624173206279\" data-tiara-layer=\"article_main\" data-tiara-ordnum=\"1\" data-tiara-type=\"harmony\" href=\"https://news.v.daum.net/v/20210624173206279\">타이어 3사 '가시밭길'..고무값 상승·물류난·美 반덤핑 관세까지</a>"
      ]
     },
     "execution_count": 8,
     "metadata": {},
     "output_type": "execute_result"
    }
   ],
   "source": [
    "result[0]"
   ]
  },
  {
   "cell_type": "code",
   "execution_count": 9,
   "id": "85d8bfed",
   "metadata": {},
   "outputs": [],
   "source": [
    "tag=result[0]"
   ]
  },
  {
   "cell_type": "code",
   "execution_count": 10,
   "id": "48ecf927",
   "metadata": {},
   "outputs": [
    {
     "data": {
      "text/plain": [
       "\"타이어 3사 '가시밭길'..고무값 상승·물류난·美 반덤핑 관세까지\""
      ]
     },
     "execution_count": 10,
     "metadata": {},
     "output_type": "execute_result"
    }
   ],
   "source": [
    "tag.text"
   ]
  },
  {
   "cell_type": "code",
   "execution_count": 11,
   "id": "4b0de5c6",
   "metadata": {},
   "outputs": [
    {
     "data": {
      "text/plain": [
       "'https://news.v.daum.net/v/20210624173206279'"
      ]
     },
     "execution_count": 11,
     "metadata": {},
     "output_type": "execute_result"
    }
   ],
   "source": [
    "tag['href']"
   ]
  },
  {
   "cell_type": "markdown",
   "id": "7e5b3cd3",
   "metadata": {},
   "source": [
    "[\n",
    "    [title,link],\n",
    "    [title01,link01],\n",
    "    [title02,link02],\n",
    "    ....\n",
    "]"
   ]
  },
  {
   "cell_type": "code",
   "execution_count": 12,
   "id": "a3fb2c7a",
   "metadata": {},
   "outputs": [],
   "source": [
    "a=[]\n",
    "for tag in result:\n",
    "    #print(tag.text.strip(), tag['href'])\n",
    "    title=tag.text.strip()\n",
    "    link=tag['href'].strip()\n",
    "    content=[title,link]\n",
    "    a.append(content)"
   ]
  },
  {
   "cell_type": "code",
   "execution_count": 13,
   "id": "0af659b6",
   "metadata": {},
   "outputs": [
    {
     "data": {
      "text/plain": [
       "[[\"타이어 3사 '가시밭길'..고무값 상승·물류난·美 반덤핑 관세까지\",\n",
       "  'https://news.v.daum.net/v/20210624173206279'],\n",
       " ['\"이베이, 얼마로 만들지가 문제\"..정용진의 e커머스 신세계',\n",
       "  'https://news.v.daum.net/v/20210624173201273'],\n",
       " [\"정용진발 이커머스 지각변동..'승자의 저주' 우려 없나\",\n",
       "  'https://news.v.daum.net/v/20210624171137447'],\n",
       " ['재난지원금 소득하위 80% 유력..가구당 100만원 이상도 검토',\n",
       "  'https://news.v.daum.net/v/20210624170820312'],\n",
       " ['경총 \"최저임금 1만800원, 소상공인·중기에 충격\"',\n",
       "  'https://news.v.daum.net/v/20210624170625240']]"
      ]
     },
     "execution_count": 13,
     "metadata": {},
     "output_type": "execute_result"
    }
   ],
   "source": [
    "a"
   ]
  },
  {
   "cell_type": "code",
   "execution_count": 14,
   "id": "71567d8d",
   "metadata": {},
   "outputs": [
    {
     "data": {
      "text/plain": [
       "5"
      ]
     },
     "execution_count": 14,
     "metadata": {},
     "output_type": "execute_result"
    }
   ],
   "source": [
    "len(a)"
   ]
  },
  {
   "cell_type": "code",
   "execution_count": 15,
   "id": "7494998a",
   "metadata": {},
   "outputs": [],
   "source": [
    "import pandas as pd"
   ]
  },
  {
   "cell_type": "code",
   "execution_count": 16,
   "id": "fe098f43",
   "metadata": {},
   "outputs": [
    {
     "data": {
      "text/html": [
       "<div>\n",
       "<style scoped>\n",
       "    .dataframe tbody tr th:only-of-type {\n",
       "        vertical-align: middle;\n",
       "    }\n",
       "\n",
       "    .dataframe tbody tr th {\n",
       "        vertical-align: top;\n",
       "    }\n",
       "\n",
       "    .dataframe thead th {\n",
       "        text-align: right;\n",
       "    }\n",
       "</style>\n",
       "<table border=\"1\" class=\"dataframe\">\n",
       "  <thead>\n",
       "    <tr style=\"text-align: right;\">\n",
       "      <th></th>\n",
       "      <th>Title</th>\n",
       "      <th>Link</th>\n",
       "    </tr>\n",
       "  </thead>\n",
       "  <tbody>\n",
       "    <tr>\n",
       "      <th>0</th>\n",
       "      <td>타이어 3사 '가시밭길'..고무값 상승·물류난·美 반덤핑 관세까지</td>\n",
       "      <td>https://news.v.daum.net/v/20210624173206279</td>\n",
       "    </tr>\n",
       "    <tr>\n",
       "      <th>1</th>\n",
       "      <td>\"이베이, 얼마로 만들지가 문제\"..정용진의 e커머스 신세계</td>\n",
       "      <td>https://news.v.daum.net/v/20210624173201273</td>\n",
       "    </tr>\n",
       "    <tr>\n",
       "      <th>2</th>\n",
       "      <td>정용진발 이커머스 지각변동..'승자의 저주' 우려 없나</td>\n",
       "      <td>https://news.v.daum.net/v/20210624171137447</td>\n",
       "    </tr>\n",
       "    <tr>\n",
       "      <th>3</th>\n",
       "      <td>재난지원금 소득하위 80% 유력..가구당 100만원 이상도 검토</td>\n",
       "      <td>https://news.v.daum.net/v/20210624170820312</td>\n",
       "    </tr>\n",
       "    <tr>\n",
       "      <th>4</th>\n",
       "      <td>경총 \"최저임금 1만800원, 소상공인·중기에 충격\"</td>\n",
       "      <td>https://news.v.daum.net/v/20210624170625240</td>\n",
       "    </tr>\n",
       "  </tbody>\n",
       "</table>\n",
       "</div>"
      ],
      "text/plain": [
       "                                  Title  \\\n",
       "0  타이어 3사 '가시밭길'..고무값 상승·물류난·美 반덤핑 관세까지   \n",
       "1     \"이베이, 얼마로 만들지가 문제\"..정용진의 e커머스 신세계   \n",
       "2        정용진발 이커머스 지각변동..'승자의 저주' 우려 없나   \n",
       "3   재난지원금 소득하위 80% 유력..가구당 100만원 이상도 검토   \n",
       "4         경총 \"최저임금 1만800원, 소상공인·중기에 충격\"   \n",
       "\n",
       "                                          Link  \n",
       "0  https://news.v.daum.net/v/20210624173206279  \n",
       "1  https://news.v.daum.net/v/20210624173201273  \n",
       "2  https://news.v.daum.net/v/20210624171137447  \n",
       "3  https://news.v.daum.net/v/20210624170820312  \n",
       "4  https://news.v.daum.net/v/20210624170625240  "
      ]
     },
     "execution_count": 16,
     "metadata": {},
     "output_type": "execute_result"
    }
   ],
   "source": [
    "data1=pd.DataFrame(a, columns=['Title', 'Link'])\n",
    "data1"
   ]
  },
  {
   "cell_type": "code",
   "execution_count": 17,
   "id": "04542f8d",
   "metadata": {},
   "outputs": [],
   "source": [
    "data1.to_excel('./saves/economic01.xls',index=False)"
   ]
  },
  {
   "cell_type": "code",
   "execution_count": null,
   "id": "26f613f8",
   "metadata": {},
   "outputs": [],
   "source": []
  },
  {
   "cell_type": "code",
   "execution_count": null,
   "id": "1562ac52",
   "metadata": {},
   "outputs": [],
   "source": []
  },
  {
   "cell_type": "code",
   "execution_count": null,
   "id": "e9df15ae",
   "metadata": {},
   "outputs": [],
   "source": []
  },
  {
   "cell_type": "code",
   "execution_count": null,
   "id": "03768579",
   "metadata": {},
   "outputs": [],
   "source": []
  },
  {
   "cell_type": "code",
   "execution_count": null,
   "id": "b9671f50",
   "metadata": {},
   "outputs": [],
   "source": []
  },
  {
   "cell_type": "code",
   "execution_count": null,
   "id": "c7d61d1c",
   "metadata": {},
   "outputs": [],
   "source": []
  }
 ],
 "metadata": {
  "kernelspec": {
   "display_name": "Python 3",
   "language": "python",
   "name": "python3"
  },
  "language_info": {
   "codemirror_mode": {
    "name": "ipython",
    "version": 3
   },
   "file_extension": ".py",
   "mimetype": "text/x-python",
   "name": "python",
   "nbconvert_exporter": "python",
   "pygments_lexer": "ipython3",
   "version": "3.6.4"
  }
 },
 "nbformat": 4,
 "nbformat_minor": 5
}
